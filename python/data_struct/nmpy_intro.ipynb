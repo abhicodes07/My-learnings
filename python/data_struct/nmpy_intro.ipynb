{
 "cells": [
  {
   "cell_type": "markdown",
   "id": "611d5a7c-356c-47e4-85be-5e2c04e28ef2",
   "metadata": {},
   "source": [
    "### This is numpy introduction"
   ]
  },
  {
   "cell_type": "code",
   "execution_count": 4,
   "id": "53f9b45e-4fa4-4133-874f-df15d4a695ae",
   "metadata": {},
   "outputs": [],
   "source": [
    "import numpy as npy"
   ]
  },
  {
   "cell_type": "code",
   "execution_count": 5,
   "id": "8fefb286-3876-442a-a85c-e529fdc0ec52",
   "metadata": {},
   "outputs": [],
   "source": [
    "import pandas as pd"
   ]
  },
  {
   "cell_type": "code",
   "execution_count": 9,
   "id": "15f53495-78b6-419c-a109-9fb70cf10b6e",
   "metadata": {},
   "outputs": [],
   "source": [
    "data = [\"Sam\", \"abhinav\", \"jayshree\", \"shurti\"]\n",
    "data1 = np.array(data)"
   ]
  },
  {
   "cell_type": "code",
   "execution_count": 11,
   "id": "76feba5e-9e0a-455b-baed-37c72bf0d02b",
   "metadata": {},
   "outputs": [
    {
     "data": {
      "text/plain": [
       "dtype('<U8')"
      ]
     },
     "execution_count": 11,
     "metadata": {},
     "output_type": "execute_result"
    }
   ],
   "source": [
    "data1.dtype"
   ]
  },
  {
   "cell_type": "code",
   "execution_count": 12,
   "id": "13e9e85e-3aca-4992-882c-dcd13dd3a56c",
   "metadata": {},
   "outputs": [
    {
     "name": "stdout",
     "output_type": "stream",
     "text": [
      "abhinav\n"
     ]
    }
   ],
   "source": [
    "arr = data1[1]\n",
    "print(arr)"
   ]
  },
  {
   "cell_type": "code",
   "execution_count": null,
   "id": "d63685c8-746d-4a0c-87a8-abaeb5a4d9d8",
   "metadata": {},
   "outputs": [],
   "source": []
  }
 ],
 "metadata": {
  "kernelspec": {
   "display_name": "Python 3 (ipykernel)",
   "language": "python",
   "name": "python3"
  },
  "language_info": {
   "codemirror_mode": {
    "name": "ipython",
    "version": 3
   },
   "file_extension": ".py",
   "mimetype": "text/x-python",
   "name": "python",
   "nbconvert_exporter": "python",
   "pygments_lexer": "ipython3",
   "version": "3.11.8"
  },
  "widgets": {
   "application/vnd.jupyter.widget-state+json": {
    "state": {},
    "version_major": 2,
    "version_minor": 0
   }
  }
 },
 "nbformat": 4,
 "nbformat_minor": 5
}
